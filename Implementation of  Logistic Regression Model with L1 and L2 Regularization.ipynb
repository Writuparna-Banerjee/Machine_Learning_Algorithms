{
 "cells": [
  {
   "cell_type": "code",
   "execution_count": 1,
   "metadata": {},
   "outputs": [],
   "source": [
    "import numpy as np\n",
    "import pandas as pd\n",
    "import matplotlib.pyplot as plt\n",
    "import seaborn as sns"
   ]
  },
  {
   "cell_type": "code",
   "execution_count": 2,
   "metadata": {},
   "outputs": [],
   "source": [
    "df=pd.read_csv('dataset.txt', sep=',')"
   ]
  },
  {
   "cell_type": "code",
   "execution_count": 3,
   "metadata": {},
   "outputs": [
    {
     "data": {
      "text/html": [
       "<div>\n",
       "<style scoped>\n",
       "    .dataframe tbody tr th:only-of-type {\n",
       "        vertical-align: middle;\n",
       "    }\n",
       "\n",
       "    .dataframe tbody tr th {\n",
       "        vertical-align: top;\n",
       "    }\n",
       "\n",
       "    .dataframe thead th {\n",
       "        text-align: right;\n",
       "    }\n",
       "</style>\n",
       "<table border=\"1\" class=\"dataframe\">\n",
       "  <thead>\n",
       "    <tr style=\"text-align: right;\">\n",
       "      <th></th>\n",
       "      <th>Marks_1</th>\n",
       "      <th>Marks_2</th>\n",
       "      <th>Result</th>\n",
       "    </tr>\n",
       "  </thead>\n",
       "  <tbody>\n",
       "    <tr>\n",
       "      <th>0</th>\n",
       "      <td>34.623660</td>\n",
       "      <td>78.024693</td>\n",
       "      <td>0</td>\n",
       "    </tr>\n",
       "    <tr>\n",
       "      <th>1</th>\n",
       "      <td>30.286711</td>\n",
       "      <td>43.894998</td>\n",
       "      <td>0</td>\n",
       "    </tr>\n",
       "    <tr>\n",
       "      <th>2</th>\n",
       "      <td>35.847409</td>\n",
       "      <td>72.902198</td>\n",
       "      <td>0</td>\n",
       "    </tr>\n",
       "    <tr>\n",
       "      <th>3</th>\n",
       "      <td>60.182599</td>\n",
       "      <td>86.308552</td>\n",
       "      <td>1</td>\n",
       "    </tr>\n",
       "    <tr>\n",
       "      <th>4</th>\n",
       "      <td>79.032736</td>\n",
       "      <td>75.344376</td>\n",
       "      <td>1</td>\n",
       "    </tr>\n",
       "  </tbody>\n",
       "</table>\n",
       "</div>"
      ],
      "text/plain": [
       "     Marks_1    Marks_2  Result\n",
       "0  34.623660  78.024693       0\n",
       "1  30.286711  43.894998       0\n",
       "2  35.847409  72.902198       0\n",
       "3  60.182599  86.308552       1\n",
       "4  79.032736  75.344376       1"
      ]
     },
     "execution_count": 3,
     "metadata": {},
     "output_type": "execute_result"
    }
   ],
   "source": [
    "df.head()"
   ]
  },
  {
   "cell_type": "code",
   "execution_count": 4,
   "metadata": {},
   "outputs": [],
   "source": [
    "X=df[['Marks_1','Marks_2']].values\n",
    "y=df['Result'].values"
   ]
  },
  {
   "cell_type": "code",
   "execution_count": 5,
   "metadata": {},
   "outputs": [
    {
     "data": {
      "text/plain": [
       "<matplotlib.axes._subplots.AxesSubplot at 0x263039230c8>"
      ]
     },
     "execution_count": 5,
     "metadata": {},
     "output_type": "execute_result"
    },
    {
     "data": {
      "image/png": "[encoded data removed]",
      "text/plain": [
       "<Figure size 432x288 with 1 Axes>"
      ]
     },
     "metadata": {
      "needs_background": "light"
     },
     "output_type": "display_data"
    }
   ],
   "source": [
    "sns.scatterplot(df['Marks_1'],df['Marks_2'],hue=df['Result'])"
   ]
  },
  {
   "cell_type": "code",
   "execution_count": 12,
   "metadata": {},
   "outputs": [],
   "source": [
    "def Logistic_Regression(X,y): #for Lasso(L1 Regularization)\n",
    "    n,features=X.shape\n",
    "    w=np.zeros(features) #As there are two features so the parameters are w1 and w2 which are initialized to zero.\n",
    "    b=0 #Initialized the intercept to zero\n",
    "    alpha=0.001 #learning rate\n",
    "    iterations=100000\n",
    "    lamda=100\n",
    "    for i in range(iterations):\n",
    "        lasso=(lamda/(2*n))*sum(w)\n",
    "        eq=(np.dot(X,w.T)+b)+lasso\n",
    "        y_pred=1/(1+np.exp(-eq))#sigmoid function [In binary classification problem if y_pred>0.5 then y=1 else 0]\n",
    "        #Avg. cost func=(1/n)*Cost(y_pred,y)\n",
    "        dev_w=(1/n)*np.dot((y_pred-y),X) #derivative of the avg. cost function w.r.t w\n",
    "        dev_b=(1/n)*np.sum(y_pred-y)  #derivative of the avg. cost function w.r.t b\n",
    "        \n",
    "        alpha_w=dev_w * alpha #step_size\n",
    "        alpha_b=dev_b * alpha\n",
    "        \n",
    "        w=w-alpha_w #new slope\n",
    "        b=b-alpha_b #new intercept\n",
    "    return w,b"
   ]
  },
  {
   "cell_type": "code",
   "execution_count": 13,
   "metadata": {},
   "outputs": [
    {
     "data": {
      "text/plain": [
       "(array([0.04507147, 0.03797333]), -4.825592793153289)"
      ]
     },
     "execution_count": 13,
     "metadata": {},
     "output_type": "execute_result"
    }
   ],
   "source": [
    "Logistic_Regression(X, y)"
   ]
  },
  {
   "cell_type": "code",
   "execution_count": 15,
   "metadata": {},
   "outputs": [],
   "source": [
    "def predict(x):\n",
    "    w,b=Logistic_Regression(X, y)\n",
    "    eq = (np.dot(x,w.T) + b)\n",
    "    y_pred = 1 /(1 + np.exp(-eq))\n",
    "    if y_pred>0.5:\n",
    "        return np.array([1])\n",
    "    else:\n",
    "        return np.array([0])"
   ]
  },
  {
   "cell_type": "code",
   "execution_count": 16,
   "metadata": {},
   "outputs": [
    {
     "data": {
      "text/plain": [
       "array([0])"
      ]
     },
     "execution_count": 16,
     "metadata": {},
     "output_type": "execute_result"
    }
   ],
   "source": [
    "predict(np.array([[23.62366 , 30.024693]]))"
   ]
  },
  {
   "cell_type": "code",
   "execution_count": 17,
   "metadata": {},
   "outputs": [
    {
     "data": {
      "text/plain": [
       "array([1])"
      ]
     },
     "execution_count": 17,
     "metadata": {},
     "output_type": "execute_result"
    }
   ],
   "source": [
    "predict([[79.032736 , 175.344376]])"
   ]
  },
  {
   "cell_type": "code",
   "execution_count": 18,
   "metadata": {},
   "outputs": [],
   "source": [
    "def Logistic_Regression(X,y): #for Ridge(L2 Regularization)\n",
    "    n,features=X.shape\n",
    "    w=np.zeros(features) #As there are two features so the parameters are w1 and w2 which are initialized to zero.\n",
    "    b=0 #Initialized the intercept to zero\n",
    "    alpha=0.001 #learning rate\n",
    "    iterations=100000\n",
    "    lamda=100\n",
    "    for i in range(iterations):\n",
    "        lasso=(lamda/(2*n))*sum(w**2)\n",
    "        eq=(np.dot(X,w.T)+b)+lasso\n",
    "        y_pred=1/(1+np.exp(-eq))#sigmoid function [In binary classification problem if y_pred>0.5 then y=1 else 0]\n",
    "        #Avg. cost func=(1/n)*Cost(y_pred,y)\n",
    "        dev_w=(1/n)*np.dot((y_pred-y),X) #derivative of the avg. cost function w.r.t w\n",
    "        dev_b=(1/n)*np.sum(y_pred-y)  #derivative of the avg. cost function w.r.t b\n",
    "        \n",
    "        alpha_w=dev_w * alpha #step_size\n",
    "        alpha_b=dev_b * alpha\n",
    "        \n",
    "        w=w-alpha_w #new slope\n",
    "        b=b-alpha_b #new intercept\n",
    "    return w,b"
   ]
  },
  {
   "cell_type": "code",
   "execution_count": 19,
   "metadata": {},
   "outputs": [
    {
     "data": {
      "text/plain": [
       "(array([0.04527066, 0.03818108]), -4.812230733759229)"
      ]
     },
     "execution_count": 19,
     "metadata": {},
     "output_type": "execute_result"
    }
   ],
   "source": [
    "Logistic_Regression(X, y)"
   ]
  },
  {
   "cell_type": "code",
   "execution_count": 20,
   "metadata": {},
   "outputs": [],
   "source": [
    "def predict(x):\n",
    "    w,b=Logistic_Regression(X, y)\n",
    "    eq = (np.dot(x,w.T) + b)\n",
    "    y_pred = 1 /(1 + np.exp(-eq))\n",
    "    if y_pred>0.5:\n",
    "        return np.array([1])\n",
    "    else:\n",
    "        return np.array([0])"
   ]
  },
  {
   "cell_type": "code",
   "execution_count": 21,
   "metadata": {},
   "outputs": [
    {
     "data": {
      "text/plain": [
       "array([0])"
      ]
     },
     "execution_count": 21,
     "metadata": {},
     "output_type": "execute_result"
    }
   ],
   "source": [
    "predict([[34.62366 , 78.024693]])"
   ]
  },
  {
   "cell_type": "code",
   "execution_count": 22,
   "metadata": {},
   "outputs": [
    {
     "data": {
      "text/plain": [
       "array([1])"
      ]
     },
     "execution_count": 22,
     "metadata": {},
     "output_type": "execute_result"
    }
   ],
   "source": [
    "predict([[90.032428 , 102.344245]])"
   ]
  },
  {
   "cell_type": "code",
   "execution_count": null,
   "metadata": {},
   "outputs": [],
   "source": []
  }
 ],
 "metadata": {
  "kernelspec": {
   "display_name": "Python 3",
   "language": "python",
   "name": "python3"
  },
  "language_info": {
   "codemirror_mode": {
    "name": "ipython",
    "version": 3
   },
   "file_extension": ".py",
   "mimetype": "text/x-python",
   "name": "python",
   "nbconvert_exporter": "python",
   "pygments_lexer": "ipython3",
   "version": "3.7.6"
  }
 },
 "nbformat": 4,
 "nbformat_minor": 4
}
