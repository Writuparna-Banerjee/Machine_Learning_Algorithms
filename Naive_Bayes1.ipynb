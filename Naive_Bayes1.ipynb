{
  "nbformat": 4,
  "nbformat_minor": 0,
  "metadata": {
    "colab": {
      "name": "Naive_Bayes1",
      "provenance": []
    },
    "kernelspec": {
      "name": "python3",
      "display_name": "Python 3"
    }
  },
  "cells": [
    {
      "cell_type": "code",
      "metadata": {
        "id": "-gDQaZNW1FTV",
        "colab_type": "code",
        "colab": {}
      },
      "source": [
        "import numpy as np\n",
        "import pandas as pd"
      ],
      "execution_count": 0,
      "outputs": []
    },
    {
      "cell_type": "code",
      "metadata": {
        "id": "G_Cjfbdl1VUk",
        "colab_type": "code",
        "colab": {}
      },
      "source": [
        "df=pd.read_csv('toy - toy.csv')"
      ],
      "execution_count": 0,
      "outputs": []
    },
    {
      "cell_type": "code",
      "metadata": {
        "id": "FiwnWvGD1fAB",
        "colab_type": "code",
        "outputId": "a517b757-692c-45c7-b579-28f2363556d1",
        "colab": {
          "base_uri": "https://localhost:8080/",
          "height": 204
        }
      },
      "source": [
        "df.head()"
      ],
      "execution_count": 0,
      "outputs": [
        {
          "output_type": "execute_result",
          "data": {
            "text/html": [
              "<div>\n",
              "<style scoped>\n",
              "    .dataframe tbody tr th:only-of-type {\n",
              "        vertical-align: middle;\n",
              "    }\n",
              "\n",
              "    .dataframe tbody tr th {\n",
              "        vertical-align: top;\n",
              "    }\n",
              "\n",
              "    .dataframe thead th {\n",
              "        text-align: right;\n",
              "    }\n",
              "</style>\n",
              "<table border=\"1\" class=\"dataframe\">\n",
              "  <thead>\n",
              "    <tr style=\"text-align: right;\">\n",
              "      <th></th>\n",
              "      <th>opponent</th>\n",
              "      <th>venue</th>\n",
              "      <th>outlook</th>\n",
              "      <th>toss</th>\n",
              "      <th>result</th>\n",
              "    </tr>\n",
              "  </thead>\n",
              "  <tbody>\n",
              "    <tr>\n",
              "      <th>0</th>\n",
              "      <td>kkr</td>\n",
              "      <td>bangalore</td>\n",
              "      <td>overcast</td>\n",
              "      <td>lost</td>\n",
              "      <td>won</td>\n",
              "    </tr>\n",
              "    <tr>\n",
              "      <th>1</th>\n",
              "      <td>mi</td>\n",
              "      <td>mumbai</td>\n",
              "      <td>sunny</td>\n",
              "      <td>won</td>\n",
              "      <td>won</td>\n",
              "    </tr>\n",
              "    <tr>\n",
              "      <th>2</th>\n",
              "      <td>rcb</td>\n",
              "      <td>mumbai</td>\n",
              "      <td>overcast</td>\n",
              "      <td>won</td>\n",
              "      <td>won</td>\n",
              "    </tr>\n",
              "    <tr>\n",
              "      <th>3</th>\n",
              "      <td>kkr</td>\n",
              "      <td>bangalore</td>\n",
              "      <td>sunny</td>\n",
              "      <td>lost</td>\n",
              "      <td>won</td>\n",
              "    </tr>\n",
              "    <tr>\n",
              "      <th>4</th>\n",
              "      <td>kkr</td>\n",
              "      <td>bangalore</td>\n",
              "      <td>sunny</td>\n",
              "      <td>won</td>\n",
              "      <td>won</td>\n",
              "    </tr>\n",
              "  </tbody>\n",
              "</table>\n",
              "</div>"
            ],
            "text/plain": [
              "  opponent      venue   outlook  toss result\n",
              "0      kkr  bangalore  overcast  lost    won\n",
              "1       mi     mumbai     sunny   won    won\n",
              "2      rcb     mumbai  overcast   won    won\n",
              "3      kkr  bangalore     sunny  lost    won\n",
              "4      kkr  bangalore     sunny   won    won"
            ]
          },
          "metadata": {
            "tags": []
          },
          "execution_count": 46
        }
      ]
    },
    {
      "cell_type": "code",
      "metadata": {
        "id": "4AEx7T022G_E",
        "colab_type": "code",
        "colab": {}
      },
      "source": [
        "#P_W=P(W/{\"kkr\", \"chennai\",\"overcast\",\"lost\"})\n",
        "#P_W=P({\"kkr\", \"chennai\",\"overcast\",\"lost\"}/W)*P(W)"
      ],
      "execution_count": 0,
      "outputs": []
    },
    {
      "cell_type": "code",
      "metadata": {
        "id": "slfh9Wi94Fpa",
        "colab_type": "code",
        "colab": {}
      },
      "source": [
        "w=df[df['result']=='won'].shape[0]\n",
        "l=df[df['result']=='lost'].shape[0]\n",
        "t=df.shape[0]"
      ],
      "execution_count": 0,
      "outputs": []
    },
    {
      "cell_type": "code",
      "metadata": {
        "id": "EsOE36C75OZT",
        "colab_type": "code",
        "outputId": "a51ee7be-b5b4-4201-9673-d09404f111bb",
        "colab": {
          "base_uri": "https://localhost:8080/",
          "height": 34
        }
      },
      "source": [
        "#P(W)=w/t\n",
        "print('P(W) =',w/t)"
      ],
      "execution_count": 0,
      "outputs": [
        {
          "output_type": "stream",
          "text": [
            "P(W) = 0.68\n"
          ],
          "name": "stdout"
        }
      ]
    },
    {
      "cell_type": "code",
      "metadata": {
        "id": "RPEyBnzJ9fc8",
        "colab_type": "code",
        "outputId": "6a8c42eb-d3b3-483b-a96d-ecbcd384dfa2",
        "colab": {
          "base_uri": "https://localhost:8080/",
          "height": 34
        }
      },
      "source": [
        "#P('kkr'/W)\n",
        "dfw=df[df['result']=='won']\n",
        "k=dfw[dfw['opponent']=='kkr'].shape[0]\n",
        "print(\"P('kkr'/W) =\",str(round((k/w),3)))"
      ],
      "execution_count": 0,
      "outputs": [
        {
          "output_type": "stream",
          "text": [
            "P('kkr'/W) = 0.471\n"
          ],
          "name": "stdout"
        }
      ]
    },
    {
      "cell_type": "code",
      "metadata": {
        "id": "P_i9v7OcBqi-",
        "colab_type": "code",
        "outputId": "d20f73e4-7e86-4506-ba05-4760f797a106",
        "colab": {
          "base_uri": "https://localhost:8080/",
          "height": 34
        }
      },
      "source": [
        "#P('chennai'/W)\n",
        "c=dfw[dfw['venue']=='chennai'].shape[0]\n",
        "print(\"P('chennai'/W) =\",str(round((c/w),3)))"
      ],
      "execution_count": 0,
      "outputs": [
        {
          "output_type": "stream",
          "text": [
            "P('chennai'/W) = 0.353\n"
          ],
          "name": "stdout"
        }
      ]
    },
    {
      "cell_type": "code",
      "metadata": {
        "id": "xVEB9KljCOs0",
        "colab_type": "code",
        "outputId": "ef039aaa-704a-4ca4-9fc1-a344d2840de1",
        "colab": {
          "base_uri": "https://localhost:8080/",
          "height": 34
        }
      },
      "source": [
        "#P('overcast'/W)\n",
        "o=dfw[dfw['outlook']=='overcast'].shape[0]\n",
        "print(\"P('overcast'/W) =\",str(round((o/w),3)))"
      ],
      "execution_count": 0,
      "outputs": [
        {
          "output_type": "stream",
          "text": [
            "P('overcast'/W) = 0.529\n"
          ],
          "name": "stdout"
        }
      ]
    },
    {
      "cell_type": "code",
      "metadata": {
        "id": "aZ-XmCLzCgJR",
        "colab_type": "code",
        "outputId": "c2dec411-6b07-4a3f-942f-aa6de73a3f29",
        "colab": {
          "base_uri": "https://localhost:8080/",
          "height": 34
        }
      },
      "source": [
        "#P('lost'/W)\n",
        "l=dfw[dfw['toss']=='lost'].shape[0]\n",
        "print(\"P('toss'/W) =\",str(round((l/w),3)))"
      ],
      "execution_count": 0,
      "outputs": [
        {
          "output_type": "stream",
          "text": [
            "P('toss'/W) = 0.353\n"
          ],
          "name": "stdout"
        }
      ]
    },
    {
      "cell_type": "code",
      "metadata": {
        "id": "64bpRR-TC-uY",
        "colab_type": "code",
        "outputId": "7a1b05bb-422e-4be4-cc6d-84b7bb4acd55",
        "colab": {
          "base_uri": "https://localhost:8080/",
          "height": 34
        }
      },
      "source": [
        "pw=str(round((k/w)*(c/w)*(o/w)*(l/w)*(w/t),3))\n",
        "print('Probability of winning is ',pw)"
      ],
      "execution_count": 0,
      "outputs": [
        {
          "output_type": "stream",
          "text": [
            "Probability of winning is  0.021\n"
          ],
          "name": "stdout"
        }
      ]
    },
    {
      "cell_type": "code",
      "metadata": {
        "id": "WgN6jHvY3ikr",
        "colab_type": "code",
        "colab": {}
      },
      "source": [
        "#P_L=P(L/{\"kkr\", \"chennai\",\"overcast\",\"lost\"})\n",
        "#P_L=P({\"kkr\", \"chennai\",\"overcast\",\"lost\"}/L)*P(L)"
      ],
      "execution_count": 0,
      "outputs": []
    },
    {
      "cell_type": "code",
      "metadata": {
        "id": "Jvsc03LMGTgv",
        "colab_type": "code",
        "outputId": "6a3bd0ee-fa43-44f3-fcd1-5cb07f9d4971",
        "colab": {
          "base_uri": "https://localhost:8080/",
          "height": 34
        }
      },
      "source": [
        "#P(L)=l/t\n",
        "print('P(L) =',l/t)"
      ],
      "execution_count": 0,
      "outputs": [
        {
          "output_type": "stream",
          "text": [
            "P(L) = 0.24\n"
          ],
          "name": "stdout"
        }
      ]
    },
    {
      "cell_type": "code",
      "metadata": {
        "id": "xuK1Txi_GrTG",
        "colab_type": "code",
        "outputId": "8daf8af2-403a-4858-8d55-54d1b0c8159e",
        "colab": {
          "base_uri": "https://localhost:8080/",
          "height": 34
        }
      },
      "source": [
        "#P('kkr'/L)\n",
        "dfl=df[df['result']=='lost']\n",
        "kkr=dfl[dfl['opponent']=='kkr'].shape[0]\n",
        "print(\"P('kkr'/L) =\",str(round((kkr/l),3)))"
      ],
      "execution_count": 0,
      "outputs": [
        {
          "output_type": "stream",
          "text": [
            "P('kkr'/L) = 0.333\n"
          ],
          "name": "stdout"
        }
      ]
    },
    {
      "cell_type": "code",
      "metadata": {
        "id": "Dcx4TrEmHSNp",
        "colab_type": "code",
        "outputId": "7c6cfbf4-429a-4d71-e676-5b779f220fbe",
        "colab": {
          "base_uri": "https://localhost:8080/",
          "height": 34
        }
      },
      "source": [
        "#P('chennai'/L)\n",
        "ch=dfl[dfl['venue']=='chennai'].shape[0]\n",
        "print(\"P('chennai'/L) =\",str(round((ch/l),3)))"
      ],
      "execution_count": 0,
      "outputs": [
        {
          "output_type": "stream",
          "text": [
            "P('chennai'/L) = 0.667\n"
          ],
          "name": "stdout"
        }
      ]
    },
    {
      "cell_type": "code",
      "metadata": {
        "id": "AH8G-QSXHfl8",
        "colab_type": "code",
        "outputId": "c26d542c-8552-426f-d451-846890340a31",
        "colab": {
          "base_uri": "https://localhost:8080/",
          "height": 34
        }
      },
      "source": [
        "#P('overcast'/L)\n",
        "oc=dfl[dfl['outlook']=='overcast'].shape[0]\n",
        "print(\"P('overcast'/L) =\",str(round((oc/l),3)))"
      ],
      "execution_count": 0,
      "outputs": [
        {
          "output_type": "stream",
          "text": [
            "P('overcast'/L) = 0.5\n"
          ],
          "name": "stdout"
        }
      ]
    },
    {
      "cell_type": "code",
      "metadata": {
        "id": "4hl75Ga2HtCO",
        "colab_type": "code",
        "outputId": "e696a5c8-ca5f-4ca2-d177-38b2b31b2e80",
        "colab": {
          "base_uri": "https://localhost:8080/",
          "height": 34
        }
      },
      "source": [
        "#P('lost'/L)\n",
        "lo=dfl[dfl['toss']=='lost'].shape[0]\n",
        "print(\"P('toss'/L) =\",str(round((lo/l),3)))"
      ],
      "execution_count": 0,
      "outputs": [
        {
          "output_type": "stream",
          "text": [
            "P('toss'/L) = 0.0\n"
          ],
          "name": "stdout"
        }
      ]
    },
    {
      "cell_type": "code",
      "metadata": {
        "id": "teyfViPbILn1",
        "colab_type": "code",
        "outputId": "8306fe04-70f7-407d-a475-310677cbfcdf",
        "colab": {
          "base_uri": "https://localhost:8080/",
          "height": 34
        }
      },
      "source": [
        "pl=str(round((kkr/l)*(ch/l)*(oc/l)*(lo/l)*(l/t),3))\n",
        "print('Probability of losing is ',pl)"
      ],
      "execution_count": 0,
      "outputs": [
        {
          "output_type": "stream",
          "text": [
            "Probability of losing is  0.0\n"
          ],
          "name": "stdout"
        }
      ]
    },
    {
      "cell_type": "code",
      "metadata": {
        "id": "TlMRFkgIItXO",
        "colab_type": "code",
        "outputId": "730dabee-8480-4950-e824-b3b7c5ea0f1a",
        "colab": {
          "base_uri": "https://localhost:8080/",
          "height": 34
        }
      },
      "source": [
        "pw>pl"
      ],
      "execution_count": 0,
      "outputs": [
        {
          "output_type": "execute_result",
          "data": {
            "text/plain": [
              "True"
            ]
          },
          "metadata": {
            "tags": []
          },
          "execution_count": 75
        }
      ]
    },
    {
      "cell_type": "markdown",
      "metadata": {
        "id": "r9vqzVkfLl8T",
        "colab_type": "text"
      },
      "source": [
        "### Conclusion: The team would win the match as pw is greater than pl and we know, according to Naive Bayes the decision probability has higher weightage."
      ]
    },
    {
      "cell_type": "code",
      "metadata": {
        "id": "Fc-lIYIgI_nj",
        "colab_type": "code",
        "colab": {}
      },
      "source": [
        ""
      ],
      "execution_count": 0,
      "outputs": []
    }
  ]
}